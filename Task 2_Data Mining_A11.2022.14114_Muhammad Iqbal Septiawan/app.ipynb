{
  "cells": [
    {
      "cell_type": "code",
      "source": [
        "from google.colab import files\n",
        "uploaded = files.upload()\n"
      ],
      "metadata": {
        "colab": {
          "base_uri": "https://localhost:8080/",
          "height": 73
        },
        "id": "_j8lNWNX2WSb",
        "outputId": "7d251c7c-47c8-4bdd-cd35-5f04efb86689"
      },
      "execution_count": 22,
      "outputs": [
        {
          "output_type": "display_data",
          "data": {
            "text/plain": [
              "<IPython.core.display.HTML object>"
            ],
            "text/html": [
              "\n",
              "     <input type=\"file\" id=\"files-71aeb062-9e65-4510-a7b7-2c925e16a071\" name=\"files[]\" multiple disabled\n",
              "        style=\"border:none\" />\n",
              "     <output id=\"result-71aeb062-9e65-4510-a7b7-2c925e16a071\">\n",
              "      Upload widget is only available when the cell has been executed in the\n",
              "      current browser session. Please rerun this cell to enable.\n",
              "      </output>\n",
              "      <script>// Copyright 2017 Google LLC\n",
              "//\n",
              "// Licensed under the Apache License, Version 2.0 (the \"License\");\n",
              "// you may not use this file except in compliance with the License.\n",
              "// You may obtain a copy of the License at\n",
              "//\n",
              "//      http://www.apache.org/licenses/LICENSE-2.0\n",
              "//\n",
              "// Unless required by applicable law or agreed to in writing, software\n",
              "// distributed under the License is distributed on an \"AS IS\" BASIS,\n",
              "// WITHOUT WARRANTIES OR CONDITIONS OF ANY KIND, either express or implied.\n",
              "// See the License for the specific language governing permissions and\n",
              "// limitations under the License.\n",
              "\n",
              "/**\n",
              " * @fileoverview Helpers for google.colab Python module.\n",
              " */\n",
              "(function(scope) {\n",
              "function span(text, styleAttributes = {}) {\n",
              "  const element = document.createElement('span');\n",
              "  element.textContent = text;\n",
              "  for (const key of Object.keys(styleAttributes)) {\n",
              "    element.style[key] = styleAttributes[key];\n",
              "  }\n",
              "  return element;\n",
              "}\n",
              "\n",
              "// Max number of bytes which will be uploaded at a time.\n",
              "const MAX_PAYLOAD_SIZE = 100 * 1024;\n",
              "\n",
              "function _uploadFiles(inputId, outputId) {\n",
              "  const steps = uploadFilesStep(inputId, outputId);\n",
              "  const outputElement = document.getElementById(outputId);\n",
              "  // Cache steps on the outputElement to make it available for the next call\n",
              "  // to uploadFilesContinue from Python.\n",
              "  outputElement.steps = steps;\n",
              "\n",
              "  return _uploadFilesContinue(outputId);\n",
              "}\n",
              "\n",
              "// This is roughly an async generator (not supported in the browser yet),\n",
              "// where there are multiple asynchronous steps and the Python side is going\n",
              "// to poll for completion of each step.\n",
              "// This uses a Promise to block the python side on completion of each step,\n",
              "// then passes the result of the previous step as the input to the next step.\n",
              "function _uploadFilesContinue(outputId) {\n",
              "  const outputElement = document.getElementById(outputId);\n",
              "  const steps = outputElement.steps;\n",
              "\n",
              "  const next = steps.next(outputElement.lastPromiseValue);\n",
              "  return Promise.resolve(next.value.promise).then((value) => {\n",
              "    // Cache the last promise value to make it available to the next\n",
              "    // step of the generator.\n",
              "    outputElement.lastPromiseValue = value;\n",
              "    return next.value.response;\n",
              "  });\n",
              "}\n",
              "\n",
              "/**\n",
              " * Generator function which is called between each async step of the upload\n",
              " * process.\n",
              " * @param {string} inputId Element ID of the input file picker element.\n",
              " * @param {string} outputId Element ID of the output display.\n",
              " * @return {!Iterable<!Object>} Iterable of next steps.\n",
              " */\n",
              "function* uploadFilesStep(inputId, outputId) {\n",
              "  const inputElement = document.getElementById(inputId);\n",
              "  inputElement.disabled = false;\n",
              "\n",
              "  const outputElement = document.getElementById(outputId);\n",
              "  outputElement.innerHTML = '';\n",
              "\n",
              "  const pickedPromise = new Promise((resolve) => {\n",
              "    inputElement.addEventListener('change', (e) => {\n",
              "      resolve(e.target.files);\n",
              "    });\n",
              "  });\n",
              "\n",
              "  const cancel = document.createElement('button');\n",
              "  inputElement.parentElement.appendChild(cancel);\n",
              "  cancel.textContent = 'Cancel upload';\n",
              "  const cancelPromise = new Promise((resolve) => {\n",
              "    cancel.onclick = () => {\n",
              "      resolve(null);\n",
              "    };\n",
              "  });\n",
              "\n",
              "  // Wait for the user to pick the files.\n",
              "  const files = yield {\n",
              "    promise: Promise.race([pickedPromise, cancelPromise]),\n",
              "    response: {\n",
              "      action: 'starting',\n",
              "    }\n",
              "  };\n",
              "\n",
              "  cancel.remove();\n",
              "\n",
              "  // Disable the input element since further picks are not allowed.\n",
              "  inputElement.disabled = true;\n",
              "\n",
              "  if (!files) {\n",
              "    return {\n",
              "      response: {\n",
              "        action: 'complete',\n",
              "      }\n",
              "    };\n",
              "  }\n",
              "\n",
              "  for (const file of files) {\n",
              "    const li = document.createElement('li');\n",
              "    li.append(span(file.name, {fontWeight: 'bold'}));\n",
              "    li.append(span(\n",
              "        `(${file.type || 'n/a'}) - ${file.size} bytes, ` +\n",
              "        `last modified: ${\n",
              "            file.lastModifiedDate ? file.lastModifiedDate.toLocaleDateString() :\n",
              "                                    'n/a'} - `));\n",
              "    const percent = span('0% done');\n",
              "    li.appendChild(percent);\n",
              "\n",
              "    outputElement.appendChild(li);\n",
              "\n",
              "    const fileDataPromise = new Promise((resolve) => {\n",
              "      const reader = new FileReader();\n",
              "      reader.onload = (e) => {\n",
              "        resolve(e.target.result);\n",
              "      };\n",
              "      reader.readAsArrayBuffer(file);\n",
              "    });\n",
              "    // Wait for the data to be ready.\n",
              "    let fileData = yield {\n",
              "      promise: fileDataPromise,\n",
              "      response: {\n",
              "        action: 'continue',\n",
              "      }\n",
              "    };\n",
              "\n",
              "    // Use a chunked sending to avoid message size limits. See b/62115660.\n",
              "    let position = 0;\n",
              "    do {\n",
              "      const length = Math.min(fileData.byteLength - position, MAX_PAYLOAD_SIZE);\n",
              "      const chunk = new Uint8Array(fileData, position, length);\n",
              "      position += length;\n",
              "\n",
              "      const base64 = btoa(String.fromCharCode.apply(null, chunk));\n",
              "      yield {\n",
              "        response: {\n",
              "          action: 'append',\n",
              "          file: file.name,\n",
              "          data: base64,\n",
              "        },\n",
              "      };\n",
              "\n",
              "      let percentDone = fileData.byteLength === 0 ?\n",
              "          100 :\n",
              "          Math.round((position / fileData.byteLength) * 100);\n",
              "      percent.textContent = `${percentDone}% done`;\n",
              "\n",
              "    } while (position < fileData.byteLength);\n",
              "  }\n",
              "\n",
              "  // All done.\n",
              "  yield {\n",
              "    response: {\n",
              "      action: 'complete',\n",
              "    }\n",
              "  };\n",
              "}\n",
              "\n",
              "scope.google = scope.google || {};\n",
              "scope.google.colab = scope.google.colab || {};\n",
              "scope.google.colab._files = {\n",
              "  _uploadFiles,\n",
              "  _uploadFilesContinue,\n",
              "};\n",
              "})(self);\n",
              "</script> "
            ]
          },
          "metadata": {}
        },
        {
          "output_type": "stream",
          "name": "stdout",
          "text": [
            "Saving dataset.csv to dataset (1).csv\n"
          ]
        }
      ]
    },
    {
      "cell_type": "code",
      "source": [
        "import pandas as pd\n",
        "\n",
        "data = pd.read_csv('dataset.csv')\n",
        "\n",
        "print(\"## Data Sample\")\n",
        "print(data.head())\n"
      ],
      "metadata": {
        "colab": {
          "base_uri": "https://localhost:8080/"
        },
        "id": "kWibI87Y2WXm",
        "outputId": "620fd702-adaf-44c3-9c1b-19232bf21ff2"
      },
      "execution_count": 23,
      "outputs": [
        {
          "output_type": "stream",
          "name": "stdout",
          "text": [
            "## Data Sample\n",
            "   No    Pelatih Kandang Sendiri Latihan Stamina  Mental Menang\n",
            "0   1  Pengetian              Ya   Rutin    Kuat      PD     Ya\n",
            "1   2  Pengetian              Ya   Rutin    Kuat  Gerogi  Tidak\n",
            "2   3  Pengetian           Tidak  Jarang   Lemah  Gerogi  Tidak\n",
            "3   4    Menekan              Ya   Rutin    Kuat      PD     Ya\n",
            "4   5    Menekan           Tidak   Rutin   Lemah  Gerogi  Tidak\n"
          ]
        }
      ]
    },
    {
      "cell_type": "code",
      "source": [
        "print(\"\\n### Informasi Data\")\n",
        "print(data.info())\n",
        "\n",
        "print(\"\\n### Statistik Deskriptif\")\n",
        "print(data.describe(include='all'))\n"
      ],
      "metadata": {
        "colab": {
          "base_uri": "https://localhost:8080/"
        },
        "id": "p-YcJ2pM2WZ8",
        "outputId": "6a13b8fc-c5f1-4cc7-a91a-d192bec6247e"
      },
      "execution_count": 24,
      "outputs": [
        {
          "output_type": "stream",
          "name": "stdout",
          "text": [
            "\n",
            "### Informasi Data\n",
            "<class 'pandas.core.frame.DataFrame'>\n",
            "RangeIndex: 60 entries, 0 to 59\n",
            "Data columns (total 7 columns):\n",
            " #   Column           Non-Null Count  Dtype \n",
            "---  ------           --------------  ----- \n",
            " 0   No               60 non-null     int64 \n",
            " 1   Pelatih          60 non-null     object\n",
            " 2   Kandang Sendiri  60 non-null     object\n",
            " 3   Latihan          60 non-null     object\n",
            " 4   Stamina          60 non-null     object\n",
            " 5   Mental           60 non-null     object\n",
            " 6   Menang           60 non-null     object\n",
            "dtypes: int64(1), object(6)\n",
            "memory usage: 3.4+ KB\n",
            "None\n",
            "\n",
            "### Statistik Deskriptif\n",
            "               No    Pelatih Kandang Sendiri Latihan Stamina Mental Menang\n",
            "count   60.000000         60              60      60      60     60     60\n",
            "unique        NaN          2               2       3       2      2      2\n",
            "top           NaN  Pengetian              Ya   Rutin   Lemah     PD     Ya\n",
            "freq          NaN         37              39      45      35     38     35\n",
            "mean    30.500000        NaN             NaN     NaN     NaN    NaN    NaN\n",
            "std     17.464249        NaN             NaN     NaN     NaN    NaN    NaN\n",
            "min      1.000000        NaN             NaN     NaN     NaN    NaN    NaN\n",
            "25%     15.750000        NaN             NaN     NaN     NaN    NaN    NaN\n",
            "50%     30.500000        NaN             NaN     NaN     NaN    NaN    NaN\n",
            "75%     45.250000        NaN             NaN     NaN     NaN    NaN    NaN\n",
            "max     60.000000        NaN             NaN     NaN     NaN    NaN    NaN\n"
          ]
        }
      ]
    },
    {
      "cell_type": "code",
      "source": [
        "from sklearn.model_selection import train_test_split\n",
        "from sklearn.preprocessing import LabelEncoder\n",
        "\n",
        "if 'No' in data.columns:\n",
        "    data = data.drop('No', axis=1)\n",
        "\n",
        "le = LabelEncoder()\n",
        "for col in data.columns:\n",
        "    data[col] = le.fit_transform(data[col])\n",
        "\n",
        "X = data.drop('Menang', axis=1)\n",
        "y = data['Menang']\n",
        "\n",
        "X_train, X_test, y_train, y_test = train_test_split(X, y, test_size=0.2, random_state=42)\n",
        "print(\"Data berhasil dipersiapkan.\")\n"
      ],
      "metadata": {
        "colab": {
          "base_uri": "https://localhost:8080/"
        },
        "id": "VRm3q88t2Wcb",
        "outputId": "8efe78b9-33d9-4cde-dbc1-e8c2e8894a84"
      },
      "execution_count": 25,
      "outputs": [
        {
          "output_type": "stream",
          "name": "stdout",
          "text": [
            "Data berhasil dipersiapkan.\n"
          ]
        }
      ]
    },
    {
      "cell_type": "code",
      "source": [
        "from sklearn.tree import DecisionTreeClassifier\n",
        "\n",
        "model = DecisionTreeClassifier(random_state=42)\n",
        "model.fit(X_train, y_train)\n",
        "\n",
        "y_pred = model.predict(X_test)\n",
        "print(\"Model berhasil dibuat dan digunakan untuk prediksi.\")\n"
      ],
      "metadata": {
        "colab": {
          "base_uri": "https://localhost:8080/"
        },
        "id": "XjlvzBOb2nfF",
        "outputId": "59748e14-e8dd-41aa-c70c-025909a65e68"
      },
      "execution_count": 26,
      "outputs": [
        {
          "output_type": "stream",
          "name": "stdout",
          "text": [
            "Model berhasil dibuat dan digunakan untuk prediksi.\n"
          ]
        }
      ]
    },
    {
      "cell_type": "code",
      "source": [
        "from sklearn.metrics import accuracy_score, classification_report, confusion_matrix\n",
        "import seaborn as sns\n",
        "import matplotlib.pyplot as plt\n",
        "\n",
        "accuracy = accuracy_score(y_test, y_pred)\n",
        "print(f\"### Akurasi Model: {accuracy * 100:.2f}%\")\n",
        "\n",
        "print(\"\\n### Laporan Klasifikasi\")\n",
        "print(classification_report(y_test, y_pred))\n",
        "\n",
        "conf_matrix = confusion_matrix(y_test, y_pred)\n",
        "sns.heatmap(conf_matrix, annot=True, fmt='d', cmap='Blues')\n",
        "plt.title('Confusion Matrix')\n",
        "plt.xlabel('Prediksi')\n",
        "plt.ylabel('Aktual')\n",
        "plt.show()\n"
      ],
      "metadata": {
        "colab": {
          "base_uri": "https://localhost:8080/",
          "height": 680
        },
        "id": "_-f_0v1-2nlN",
        "outputId": "037419fa-2f82-4cfb-9138-3688d7abcefd"
      },
      "execution_count": 27,
      "outputs": [
        {
          "output_type": "stream",
          "name": "stdout",
          "text": [
            "### Akurasi Model: 100.00%\n",
            "\n",
            "### Laporan Klasifikasi\n",
            "              precision    recall  f1-score   support\n",
            "\n",
            "           0       1.00      1.00      1.00         3\n",
            "           1       1.00      1.00      1.00         9\n",
            "\n",
            "    accuracy                           1.00        12\n",
            "   macro avg       1.00      1.00      1.00        12\n",
            "weighted avg       1.00      1.00      1.00        12\n",
            "\n"
          ]
        },
        {
          "output_type": "display_data",
          "data": {
            "text/plain": [
              "<Figure size 640x480 with 2 Axes>"
            ],
            "image/png": "[encoded data removed]"
          },
          "metadata": {}
        }
      ]
    },
    {
      "cell_type": "code",
      "source": [
        "print(\"\\n### Label yang Dikenali\")\n",
        "for col in data.columns:\n",
        "    if col != 'Menang':\n",
        "        print(f\"{col}: {le.classes_}\")\n"
      ],
      "metadata": {
        "colab": {
          "base_uri": "https://localhost:8080/"
        },
        "id": "5socUIp12v6j",
        "outputId": "c028b3c7-60f2-4c8f-a5e8-9cadd7dc8a87"
      },
      "execution_count": 28,
      "outputs": [
        {
          "output_type": "stream",
          "name": "stdout",
          "text": [
            "\n",
            "### Label yang Dikenali\n",
            "Pelatih: ['Tidak' 'Ya']\n",
            "Kandang Sendiri: ['Tidak' 'Ya']\n",
            "Latihan: ['Tidak' 'Ya']\n",
            "Stamina: ['Tidak' 'Ya']\n",
            "Mental: ['Tidak' 'Ya']\n"
          ]
        }
      ]
    },
    {
      "cell_type": "code",
      "source": [
        "new_data = {\n",
        "    'Pelatih': input(\"Punya Tim Pelatih?: \"),\n",
        "    'Kandang Sendiri': input(\"Kandang Sendiri: \"),\n",
        "    'Latihan': input(\"Latihan (Rutin (Ya)/Jarang (Tidak)): \"),\n",
        "    'Stamina': input(\"Stamina (Kuat(Ya)/Lemah(Tidak)): \"),\n",
        "    'Mental': input(\"Mental (PD(Ya)/Gerogi(Tidak)): \")\n",
        "}\n",
        "\n",
        "new_data_df = pd.DataFrame([new_data])\n",
        "\n",
        "for col in new_data_df.columns:\n",
        "    if new_data_df[col][0] not in le.classes_:\n",
        "        print(f\"Error: Label '{new_data_df[col][0]}' tidak ditemukan dalam data pelatihan.\")\n",
        "        print(f\"Label yang valid untuk kolom {col}: {le.classes_}\")\n",
        "        break\n",
        "    else:\n",
        "        new_data_df[col] = le.transform(new_data_df[col])\n",
        "\n",
        "if not new_data_df.isnull().values.any():\n",
        "    prediction = model.predict(new_data_df)\n",
        "    result = 'Menang' if prediction[0] == 1 else 'Tidak Menang'\n",
        "    print(f\"Prediksi: {result}\")\n"
      ],
      "metadata": {
        "colab": {
          "base_uri": "https://localhost:8080/"
        },
        "id": "pNgqSDwD3wEo",
        "outputId": "0e723562-518e-4b5b-8f28-f5f59479ab2d"
      },
      "execution_count": 30,
      "outputs": [
        {
          "output_type": "stream",
          "name": "stdout",
          "text": [
            "Punya Tim Pelatih?: Ya\n",
            "Kandang Sendiri: Tidak\n",
            "Latihan (Rutin (Ya)/Jarang (Tidak)): Ya\n",
            "Stamina (Kuat(Ya)/Lemah(Tidak)): Ya\n",
            "Mental (PD(Ya)/Gerogi(Tidak)): Ya\n",
            "Prediksi: Menang\n"
          ]
        }
      ]
    }
  ],
  "metadata": {
    "colab": {
      "provenance": []
    },
    "kernelspec": {
      "display_name": "Python 3",
      "name": "python3"
    }
  },
  "nbformat": 4,
  "nbformat_minor": 0
}